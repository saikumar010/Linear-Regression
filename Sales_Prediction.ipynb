{
 "cells": [
  {
   "cell_type": "markdown",
   "metadata": {},
   "source": [
    "## Importing Libraries "
   ]
  },
  {
   "cell_type": "code",
   "execution_count": 43,
   "metadata": {},
   "outputs": [],
   "source": [
    "import pandas as pd\n",
    "from scipy.stats import pearsonr\n",
    "from scipy.stats import spearmanr\n",
    "import numpy as np\n",
    "from sklearn.preprocessing import OneHotEncoder\n",
    "from sklearn.linear_model import LinearRegression\n",
    "from sklearn.model_selection import train_test_split\n",
    "from sklearn.preprocessing import LabelEncoder"
   ]
  },
  {
   "cell_type": "markdown",
   "metadata": {},
   "source": [
    "## Reading Dataset\n"
   ]
  },
  {
   "cell_type": "code",
   "execution_count": 44,
   "metadata": {},
   "outputs": [],
   "source": [
    "df = pd.read_csv(\"/Users/Sai Kumar/code asylum/datasets.csv\")"
   ]
  },
  {
   "cell_type": "code",
   "execution_count": 45,
   "metadata": {},
   "outputs": [
    {
     "data": {
      "text/html": [
       "<div>\n",
       "<style scoped>\n",
       "    .dataframe tbody tr th:only-of-type {\n",
       "        vertical-align: middle;\n",
       "    }\n",
       "\n",
       "    .dataframe tbody tr th {\n",
       "        vertical-align: top;\n",
       "    }\n",
       "\n",
       "    .dataframe thead th {\n",
       "        text-align: right;\n",
       "    }\n",
       "</style>\n",
       "<table border=\"1\" class=\"dataframe\">\n",
       "  <thead>\n",
       "    <tr style=\"text-align: right;\">\n",
       "      <th></th>\n",
       "      <th>Item_Identifier</th>\n",
       "      <th>Item_Weight</th>\n",
       "      <th>Item_Fat_Content</th>\n",
       "      <th>Item_Visibility</th>\n",
       "      <th>Item_Type</th>\n",
       "      <th>Item_MRP</th>\n",
       "      <th>Outlet_Identifier</th>\n",
       "      <th>Outlet_Establishment_Year</th>\n",
       "      <th>Outlet_Size</th>\n",
       "      <th>Outlet_Location_Type</th>\n",
       "      <th>Outlet_Type</th>\n",
       "      <th>Item_Outlet_Sales</th>\n",
       "    </tr>\n",
       "  </thead>\n",
       "  <tbody>\n",
       "    <tr>\n",
       "      <td>0</td>\n",
       "      <td>FDA15</td>\n",
       "      <td>9.30</td>\n",
       "      <td>Low Fat</td>\n",
       "      <td>0.016047</td>\n",
       "      <td>Dairy</td>\n",
       "      <td>249.8092</td>\n",
       "      <td>OUT049</td>\n",
       "      <td>1999</td>\n",
       "      <td>Medium</td>\n",
       "      <td>Tier 1</td>\n",
       "      <td>Supermarket Type1</td>\n",
       "      <td>3735.1380</td>\n",
       "    </tr>\n",
       "    <tr>\n",
       "      <td>1</td>\n",
       "      <td>DRC01</td>\n",
       "      <td>5.92</td>\n",
       "      <td>Regular</td>\n",
       "      <td>0.019278</td>\n",
       "      <td>Soft Drinks</td>\n",
       "      <td>48.2692</td>\n",
       "      <td>OUT018</td>\n",
       "      <td>2009</td>\n",
       "      <td>Medium</td>\n",
       "      <td>Tier 3</td>\n",
       "      <td>Supermarket Type2</td>\n",
       "      <td>443.4228</td>\n",
       "    </tr>\n",
       "    <tr>\n",
       "      <td>2</td>\n",
       "      <td>FDN15</td>\n",
       "      <td>17.50</td>\n",
       "      <td>Low Fat</td>\n",
       "      <td>0.016760</td>\n",
       "      <td>Meat</td>\n",
       "      <td>141.6180</td>\n",
       "      <td>OUT049</td>\n",
       "      <td>1999</td>\n",
       "      <td>Medium</td>\n",
       "      <td>Tier 1</td>\n",
       "      <td>Supermarket Type1</td>\n",
       "      <td>2097.2700</td>\n",
       "    </tr>\n",
       "    <tr>\n",
       "      <td>3</td>\n",
       "      <td>FDX07</td>\n",
       "      <td>19.20</td>\n",
       "      <td>Regular</td>\n",
       "      <td>0.000000</td>\n",
       "      <td>Fruits and Vegetables</td>\n",
       "      <td>182.0950</td>\n",
       "      <td>OUT010</td>\n",
       "      <td>1998</td>\n",
       "      <td>NaN</td>\n",
       "      <td>Tier 3</td>\n",
       "      <td>Grocery Store</td>\n",
       "      <td>732.3800</td>\n",
       "    </tr>\n",
       "    <tr>\n",
       "      <td>4</td>\n",
       "      <td>NCD19</td>\n",
       "      <td>8.93</td>\n",
       "      <td>Low Fat</td>\n",
       "      <td>0.000000</td>\n",
       "      <td>Household</td>\n",
       "      <td>53.8614</td>\n",
       "      <td>OUT013</td>\n",
       "      <td>1987</td>\n",
       "      <td>High</td>\n",
       "      <td>Tier 3</td>\n",
       "      <td>Supermarket Type1</td>\n",
       "      <td>994.7052</td>\n",
       "    </tr>\n",
       "  </tbody>\n",
       "</table>\n",
       "</div>"
      ],
      "text/plain": [
       "  Item_Identifier  Item_Weight Item_Fat_Content  Item_Visibility  \\\n",
       "0           FDA15         9.30          Low Fat         0.016047   \n",
       "1           DRC01         5.92          Regular         0.019278   \n",
       "2           FDN15        17.50          Low Fat         0.016760   \n",
       "3           FDX07        19.20          Regular         0.000000   \n",
       "4           NCD19         8.93          Low Fat         0.000000   \n",
       "\n",
       "               Item_Type  Item_MRP Outlet_Identifier  \\\n",
       "0                  Dairy  249.8092            OUT049   \n",
       "1            Soft Drinks   48.2692            OUT018   \n",
       "2                   Meat  141.6180            OUT049   \n",
       "3  Fruits and Vegetables  182.0950            OUT010   \n",
       "4              Household   53.8614            OUT013   \n",
       "\n",
       "   Outlet_Establishment_Year Outlet_Size Outlet_Location_Type  \\\n",
       "0                       1999      Medium               Tier 1   \n",
       "1                       2009      Medium               Tier 3   \n",
       "2                       1999      Medium               Tier 1   \n",
       "3                       1998         NaN               Tier 3   \n",
       "4                       1987        High               Tier 3   \n",
       "\n",
       "         Outlet_Type  Item_Outlet_Sales  \n",
       "0  Supermarket Type1          3735.1380  \n",
       "1  Supermarket Type2           443.4228  \n",
       "2  Supermarket Type1          2097.2700  \n",
       "3      Grocery Store           732.3800  \n",
       "4  Supermarket Type1           994.7052  "
      ]
     },
     "execution_count": 45,
     "metadata": {},
     "output_type": "execute_result"
    }
   ],
   "source": [
    "df.head()"
   ]
  },
  {
   "cell_type": "markdown",
   "metadata": {},
   "source": [
    "## Data Cleaning"
   ]
  },
  {
   "cell_type": "code",
   "execution_count": 46,
   "metadata": {},
   "outputs": [
    {
     "data": {
      "text/plain": [
       "Item_Identifier                 0\n",
       "Item_Weight                  1463\n",
       "Item_Fat_Content                0\n",
       "Item_Visibility                 0\n",
       "Item_Type                       0\n",
       "Item_MRP                        0\n",
       "Outlet_Identifier               0\n",
       "Outlet_Establishment_Year       0\n",
       "Outlet_Size                  2410\n",
       "Outlet_Location_Type            0\n",
       "Outlet_Type                     0\n",
       "Item_Outlet_Sales               0\n",
       "dtype: int64"
      ]
     },
     "execution_count": 46,
     "metadata": {},
     "output_type": "execute_result"
    }
   ],
   "source": [
    "df.isnull().sum()"
   ]
  },
  {
   "cell_type": "code",
   "execution_count": 47,
   "metadata": {},
   "outputs": [],
   "source": [
    "df['Item_Weight'].fillna(df['Item_Weight'].mean(), inplace=True)"
   ]
  },
  {
   "cell_type": "code",
   "execution_count": 48,
   "metadata": {},
   "outputs": [
    {
     "data": {
      "text/plain": [
       "Item_Identifier               object\n",
       "Item_Weight                  float64\n",
       "Item_Fat_Content              object\n",
       "Item_Visibility              float64\n",
       "Item_Type                     object\n",
       "Item_MRP                     float64\n",
       "Outlet_Identifier             object\n",
       "Outlet_Establishment_Year      int64\n",
       "Outlet_Size                   object\n",
       "Outlet_Location_Type          object\n",
       "Outlet_Type                   object\n",
       "Item_Outlet_Sales            float64\n",
       "dtype: object"
      ]
     },
     "execution_count": 48,
     "metadata": {},
     "output_type": "execute_result"
    }
   ],
   "source": [
    "df.dtypes"
   ]
  },
  {
   "cell_type": "code",
   "execution_count": 49,
   "metadata": {},
   "outputs": [
    {
     "data": {
      "text/plain": [
       "Index(['Item_Identifier', 'Item_Fat_Content', 'Item_Type', 'Outlet_Identifier',\n",
       "       'Outlet_Size', 'Outlet_Location_Type', 'Outlet_Type'],\n",
       "      dtype='object')"
      ]
     },
     "execution_count": 49,
     "metadata": {},
     "output_type": "execute_result"
    }
   ],
   "source": [
    "df.select_dtypes(include=['object']).columns"
   ]
  },
  {
   "cell_type": "code",
   "execution_count": 50,
   "metadata": {},
   "outputs": [
    {
     "name": "stdout",
     "output_type": "stream",
     "text": [
      "FDW13    0.117330\n",
      "FDG33    0.117330\n",
      "FDU12    0.105597\n",
      "FDW49    0.105597\n",
      "FDV38    0.105597\n",
      "           ...   \n",
      "FDO33    0.011733\n",
      "DRF48    0.011733\n",
      "FDT35    0.011733\n",
      "FDN52    0.011733\n",
      "FDK57    0.011733\n",
      "Name: Item_Identifier, Length: 1559, dtype: float64\n",
      "Low Fat    59.709023\n",
      "Regular    33.896515\n",
      "LF          3.707615\n",
      "reg         1.372756\n",
      "low fat     1.314091\n",
      "Name: Item_Fat_Content, dtype: float64\n",
      "Fruits and Vegetables    14.455004\n",
      "Snack Foods              14.079549\n",
      "Household                10.676992\n",
      "Frozen Foods             10.043412\n",
      "Dairy                     8.001877\n",
      "Canned                    7.614690\n",
      "Baking Goods              7.602957\n",
      "Health and Hygiene        6.101138\n",
      "Soft Drinks               5.221166\n",
      "Meat                      4.986507\n",
      "Breads                    2.944972\n",
      "Hard Drinks               2.510853\n",
      "Others                    1.982870\n",
      "Starchy Foods             1.736478\n",
      "Breakfast                 1.290625\n",
      "Seafood                   0.750909\n",
      "Name: Item_Type, dtype: float64\n",
      "OUT027    10.970316\n",
      "OUT013    10.935117\n",
      "OUT035    10.911651\n",
      "OUT049    10.911651\n",
      "OUT046    10.911651\n",
      "OUT045    10.899918\n",
      "OUT018    10.888185\n",
      "OUT017    10.864719\n",
      "OUT010     6.511792\n",
      "OUT019     6.195002\n",
      "Name: Outlet_Identifier, dtype: float64\n",
      "Medium    32.770151\n",
      "Small     28.018303\n",
      "High      10.935117\n",
      "Name: Outlet_Size, dtype: float64\n",
      "Tier 3    39.305409\n",
      "Tier 2    32.676288\n",
      "Tier 1    28.018303\n",
      "Name: Outlet_Location_Type, dtype: float64\n",
      "Supermarket Type1    65.434706\n",
      "Grocery Store        12.706793\n",
      "Supermarket Type3    10.970316\n",
      "Supermarket Type2    10.888185\n",
      "Name: Outlet_Type, dtype: float64\n"
     ]
    }
   ],
   "source": [
    "for i in df.select_dtypes(include=['object']).columns:\n",
    "    print((df[i].value_counts()/len(df))*100)"
   ]
  },
  {
   "cell_type": "code",
   "execution_count": 51,
   "metadata": {},
   "outputs": [],
   "source": [
    "df['Item_Fat_Content'] = df['Item_Fat_Content'].replace({'LF': 'Low Fat', 'reg': 'Regular', 'low fat':'Low Fat'})"
   ]
  },
  {
   "cell_type": "code",
   "execution_count": 52,
   "metadata": {},
   "outputs": [
    {
     "data": {
      "text/plain": [
       "Low Fat    5517\n",
       "Regular    3006\n",
       "Name: Item_Fat_Content, dtype: int64"
      ]
     },
     "execution_count": 52,
     "metadata": {},
     "output_type": "execute_result"
    }
   ],
   "source": [
    "df['Item_Fat_Content'].value_counts()"
   ]
  },
  {
   "cell_type": "code",
   "execution_count": 53,
   "metadata": {},
   "outputs": [
    {
     "name": "stdout",
     "output_type": "stream",
     "text": [
      "FDW13    0.117330\n",
      "FDG33    0.117330\n",
      "FDU12    0.105597\n",
      "FDW49    0.105597\n",
      "FDV38    0.105597\n",
      "           ...   \n",
      "FDO33    0.011733\n",
      "DRF48    0.011733\n",
      "FDT35    0.011733\n",
      "FDN52    0.011733\n",
      "FDK57    0.011733\n",
      "Name: Item_Identifier, Length: 1559, dtype: float64\n",
      "Low Fat    64.730729\n",
      "Regular    35.269271\n",
      "Name: Item_Fat_Content, dtype: float64\n",
      "Fruits and Vegetables    14.455004\n",
      "Snack Foods              14.079549\n",
      "Household                10.676992\n",
      "Frozen Foods             10.043412\n",
      "Dairy                     8.001877\n",
      "Canned                    7.614690\n",
      "Baking Goods              7.602957\n",
      "Health and Hygiene        6.101138\n",
      "Soft Drinks               5.221166\n",
      "Meat                      4.986507\n",
      "Breads                    2.944972\n",
      "Hard Drinks               2.510853\n",
      "Others                    1.982870\n",
      "Starchy Foods             1.736478\n",
      "Breakfast                 1.290625\n",
      "Seafood                   0.750909\n",
      "Name: Item_Type, dtype: float64\n",
      "OUT027    10.970316\n",
      "OUT013    10.935117\n",
      "OUT035    10.911651\n",
      "OUT049    10.911651\n",
      "OUT046    10.911651\n",
      "OUT045    10.899918\n",
      "OUT018    10.888185\n",
      "OUT017    10.864719\n",
      "OUT010     6.511792\n",
      "OUT019     6.195002\n",
      "Name: Outlet_Identifier, dtype: float64\n",
      "Medium    32.770151\n",
      "Small     28.018303\n",
      "High      10.935117\n",
      "Name: Outlet_Size, dtype: float64\n",
      "Tier 3    39.305409\n",
      "Tier 2    32.676288\n",
      "Tier 1    28.018303\n",
      "Name: Outlet_Location_Type, dtype: float64\n",
      "Supermarket Type1    65.434706\n",
      "Grocery Store        12.706793\n",
      "Supermarket Type3    10.970316\n",
      "Supermarket Type2    10.888185\n",
      "Name: Outlet_Type, dtype: float64\n"
     ]
    }
   ],
   "source": [
    "for i in df.select_dtypes(include=['object']).columns:\n",
    "    print((df[i].value_counts()/len(df))*100)"
   ]
  },
  {
   "cell_type": "code",
   "execution_count": 54,
   "metadata": {},
   "outputs": [
    {
     "name": "stdout",
     "output_type": "stream",
     "text": [
      "count    8523.000000\n",
      "mean       12.857645\n",
      "std         4.226124\n",
      "min         4.555000\n",
      "25%         9.310000\n",
      "50%        12.857645\n",
      "75%        16.000000\n",
      "max        21.350000\n",
      "Name: Item_Weight, dtype: float64\n",
      "count    8523.000000\n",
      "mean        0.066132\n",
      "std         0.051598\n",
      "min         0.000000\n",
      "25%         0.026989\n",
      "50%         0.053931\n",
      "75%         0.094585\n",
      "max         0.328391\n",
      "Name: Item_Visibility, dtype: float64\n",
      "count    8523.000000\n",
      "mean      140.992782\n",
      "std        62.275067\n",
      "min        31.290000\n",
      "25%        93.826500\n",
      "50%       143.012800\n",
      "75%       185.643700\n",
      "max       266.888400\n",
      "Name: Item_MRP, dtype: float64\n",
      "count    8523.000000\n",
      "mean     1997.831867\n",
      "std         8.371760\n",
      "min      1985.000000\n",
      "25%      1987.000000\n",
      "50%      1999.000000\n",
      "75%      2004.000000\n",
      "max      2009.000000\n",
      "Name: Outlet_Establishment_Year, dtype: float64\n",
      "count     8523.000000\n",
      "mean      2181.288914\n",
      "std       1706.499616\n",
      "min         33.290000\n",
      "25%        834.247400\n",
      "50%       1794.331000\n",
      "75%       3101.296400\n",
      "max      13086.964800\n",
      "Name: Item_Outlet_Sales, dtype: float64\n"
     ]
    }
   ],
   "source": [
    "for i in df.select_dtypes(include=['float64', 'int64']).columns:\n",
    "    print((df[i].describe()))"
   ]
  },
  {
   "cell_type": "markdown",
   "metadata": {},
   "source": [
    "## Feature Engineering"
   ]
  },
  {
   "cell_type": "code",
   "execution_count": 55,
   "metadata": {},
   "outputs": [
    {
     "data": {
      "text/plain": [
       "18591125.410399996"
      ]
     },
     "execution_count": 55,
     "metadata": {},
     "output_type": "execute_result"
    }
   ],
   "source": [
    "df['Item_Outlet_Sales'].sum()"
   ]
  },
  {
   "cell_type": "code",
   "execution_count": 56,
   "metadata": {},
   "outputs": [],
   "source": [
    "df['Item_Visibility'] = df['Item_Visibility'].replace({0:df['Item_Visibility'].mean()})"
   ]
  },
  {
   "cell_type": "code",
   "execution_count": 57,
   "metadata": {},
   "outputs": [],
   "source": [
    "enc = OneHotEncoder(handle_unknown='ignore')\n",
    "X = pd.DataFrame(enc.fit_transform(df[['Outlet_Identifier']]).toarray())"
   ]
  },
  {
   "cell_type": "code",
   "execution_count": 58,
   "metadata": {},
   "outputs": [],
   "source": [
    "X[['Item_Visibility', 'Item_MRP']] = df[['Item_Visibility', 'Item_MRP']]"
   ]
  },
  {
   "cell_type": "code",
   "execution_count": 59,
   "metadata": {},
   "outputs": [],
   "source": [
    "y = pd.DataFrame(df['Item_Outlet_Sales'])"
   ]
  },
  {
   "cell_type": "markdown",
   "metadata": {},
   "source": [
    "## Linear Regression "
   ]
  },
  {
   "cell_type": "code",
   "execution_count": 60,
   "metadata": {},
   "outputs": [],
   "source": [
    "X_train, X_test, y_train, y_test = train_test_split(X, y, test_size=0.2, random_state=0)"
   ]
  },
  {
   "cell_type": "code",
   "execution_count": 61,
   "metadata": {},
   "outputs": [],
   "source": [
    "reg = LinearRegression().fit(X_train, y_train)"
   ]
  },
  {
   "cell_type": "code",
   "execution_count": 62,
   "metadata": {},
   "outputs": [],
   "source": [
    "y_pred = reg.predict(X_test)"
   ]
  },
  {
   "cell_type": "code",
   "execution_count": 63,
   "metadata": {},
   "outputs": [
    {
     "data": {
      "text/plain": [
       "array([[ 2484.94615606],\n",
       "       [ 2534.04394227],\n",
       "       [ 2224.44697141],\n",
       "       ...,\n",
       "       [ 4169.87612912],\n",
       "       [-1004.4149807 ],\n",
       "       [ 5365.85746393]])"
      ]
     },
     "execution_count": 63,
     "metadata": {},
     "output_type": "execute_result"
    }
   ],
   "source": [
    "y_pred"
   ]
  },
  {
   "cell_type": "code",
   "execution_count": 64,
   "metadata": {},
   "outputs": [
    {
     "data": {
      "text/html": [
       "<div>\n",
       "<style scoped>\n",
       "    .dataframe tbody tr th:only-of-type {\n",
       "        vertical-align: middle;\n",
       "    }\n",
       "\n",
       "    .dataframe tbody tr th {\n",
       "        vertical-align: top;\n",
       "    }\n",
       "\n",
       "    .dataframe thead th {\n",
       "        text-align: right;\n",
       "    }\n",
       "</style>\n",
       "<table border=\"1\" class=\"dataframe\">\n",
       "  <thead>\n",
       "    <tr style=\"text-align: right;\">\n",
       "      <th></th>\n",
       "      <th>Item_Outlet_Sales</th>\n",
       "    </tr>\n",
       "  </thead>\n",
       "  <tbody>\n",
       "    <tr>\n",
       "      <td>4931</td>\n",
       "      <td>1426.1436</td>\n",
       "    </tr>\n",
       "    <tr>\n",
       "      <td>4148</td>\n",
       "      <td>1201.7690</td>\n",
       "    </tr>\n",
       "    <tr>\n",
       "      <td>7423</td>\n",
       "      <td>1836.2764</td>\n",
       "    </tr>\n",
       "    <tr>\n",
       "      <td>4836</td>\n",
       "      <td>2410.8618</td>\n",
       "    </tr>\n",
       "    <tr>\n",
       "      <td>944</td>\n",
       "      <td>1549.9824</td>\n",
       "    </tr>\n",
       "    <tr>\n",
       "      <td>...</td>\n",
       "      <td>...</td>\n",
       "    </tr>\n",
       "    <tr>\n",
       "      <td>4644</td>\n",
       "      <td>3235.7880</td>\n",
       "    </tr>\n",
       "    <tr>\n",
       "      <td>6179</td>\n",
       "      <td>555.2772</td>\n",
       "    </tr>\n",
       "    <tr>\n",
       "      <td>1861</td>\n",
       "      <td>2885.5772</td>\n",
       "    </tr>\n",
       "    <tr>\n",
       "      <td>3598</td>\n",
       "      <td>218.3824</td>\n",
       "    </tr>\n",
       "    <tr>\n",
       "      <td>1523</td>\n",
       "      <td>5478.2024</td>\n",
       "    </tr>\n",
       "  </tbody>\n",
       "</table>\n",
       "<p>1705 rows × 1 columns</p>\n",
       "</div>"
      ],
      "text/plain": [
       "      Item_Outlet_Sales\n",
       "4931          1426.1436\n",
       "4148          1201.7690\n",
       "7423          1836.2764\n",
       "4836          2410.8618\n",
       "944           1549.9824\n",
       "...                 ...\n",
       "4644          3235.7880\n",
       "6179           555.2772\n",
       "1861          2885.5772\n",
       "3598           218.3824\n",
       "1523          5478.2024\n",
       "\n",
       "[1705 rows x 1 columns]"
      ]
     },
     "execution_count": 64,
     "metadata": {},
     "output_type": "execute_result"
    }
   ],
   "source": [
    "y_test"
   ]
  },
  {
   "cell_type": "code",
   "execution_count": 65,
   "metadata": {},
   "outputs": [
    {
     "data": {
      "text/plain": [
       "0.5629507174114475"
      ]
     },
     "execution_count": 65,
     "metadata": {},
     "output_type": "execute_result"
    }
   ],
   "source": [
    "reg.score(X_train,y_train)"
   ]
  }
 ],
 "metadata": {
  "kernelspec": {
   "display_name": "Python 3",
   "language": "python",
   "name": "python3"
  },
  "language_info": {
   "codemirror_mode": {
    "name": "ipython",
    "version": 3
   },
   "file_extension": ".py",
   "mimetype": "text/x-python",
   "name": "python",
   "nbconvert_exporter": "python",
   "pygments_lexer": "ipython3",
   "version": "3.7.4"
  }
 },
 "nbformat": 4,
 "nbformat_minor": 2
}
